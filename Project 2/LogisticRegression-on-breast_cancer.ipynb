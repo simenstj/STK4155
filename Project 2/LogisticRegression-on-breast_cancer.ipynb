{
 "cells": [
  {
   "cell_type": "code",
   "execution_count": null,
   "metadata": {
    "collapsed": true
   },
   "outputs": [],
   "source": [
    "# LogisticRegression on breast_cancer"
   ]
  },
  {
   "cell_type": "code",
   "execution_count": 1,
   "metadata": {},
   "outputs": [],
   "source": [
    "import numpy as np\n",
    "import pandas as pd\n",
    "\n",
    "from matplotlib import pyplot as plt\n",
    "from sklearn.model_selection import train_test_split\n",
    "from sklearn.preprocessing import MinMaxScaler, StandardScaler, Normalizer\n",
    "\n",
    "from sklearn.datasets import load_breast_cancer\n",
    "cancer = load_breast_cancer()\n",
    "\n",
    "cancerpd = pd.DataFrame(cancer.data, columns=cancer.feature_names)\n",
    "target = pd.DataFrame(cancer.target)  \n",
    "#diagnosis = pd.Categorical.from_codes(cancer.target, cancer.target_names)\n",
    "#diagnosis = pd.get_dummies(diagnosis)"
   ]
  },
  {
   "cell_type": "code",
   "execution_count": 3,
   "metadata": {
    "collapsed": true
   },
   "outputs": [],
   "source": [
    "# Define the Functions "
   ]
  },
  {
   "cell_type": "code",
   "execution_count": 2,
   "metadata": {},
   "outputs": [],
   "source": [
    "# Create the Franke Function\n",
    "\n",
    "def FrankeFunction(x,y):\n",
    "    term1 = 0.75*np.exp(-(0.25*(9*x-2)**2) - 0.25*((9*y-2)**2))\n",
    "    term2 = 0.75*np.exp(-((9*x+1)**2)/49.0 - 0.1*(9*y+1))\n",
    "    term3 = 0.5*np.exp(-(9*x-7)**2/4.0 - 0.25*((9*y-3)**2))\n",
    "    term4 = -0.2*np.exp(-(9*x-4)**2 - (9*y-7)**2)\n",
    "    return term1 + term2 + term3 + term4\n",
    "    \n",
    "#z = FrankeFunction(x, y)\n",
    "\n",
    "\n",
    "# Create the design matrix\n",
    "#X= create_X(x, y, m)\n",
    "    \n",
    "def DesignMatriX(x, y, n):\n",
    "    if len(x.shape) > 1:\n",
    "        x = np.ravel(x)\n",
    "        y = np.ravel(y)\n",
    "    \n",
    "    N = len(x)\n",
    "    l = int((n+1) * (n+2)/2)  # Number of elements in beta\n",
    "    X = np.ones((N,l))\n",
    "    \n",
    "    for i in range(1, n+1):\n",
    "        q = int((i) * (i+1)/2)\n",
    "        for k in range(i+1):\n",
    "            X[:,q+k] = x**(i-k) * y**k\n",
    "    \n",
    "    return X\n",
    "\n",
    "#X = DesignMatriX(x, z, m)"
   ]
  },
  {
   "cell_type": "code",
   "execution_count": null,
   "metadata": {},
   "outputs": [],
   "source": []
  },
  {
   "cell_type": "code",
   "execution_count": 2,
   "metadata": {},
   "outputs": [],
   "source": [
    "# Initialize the weights and bias\n",
    "def initialize(m):    \n",
    "    w = np.zeros((m,1)) + 0.0001\n",
    "    b = 0.0    \n",
    "    return w, b\n",
    "\n",
    "\n",
    "# Calculate sigmoid of z\n",
    "def sigmoid(z):\n",
    "    return 1. / (1. + np.exp(-z))\n",
    "\n",
    "\n",
    "# Forward and back propogation\n",
    "def fb_propogate(X, y, w, b): \n",
    "    \n",
    "    m = X.shape[1] # Number of training data\n",
    "    \n",
    "    # Forward Propogation, calculating the cost\n",
    "    Z = np.dot(w.T, X) + b\n",
    "    A = sigmoid(Z)\n",
    "    cost= -(1. / m) * np.sum(y * np.log(A) + (1. - y) * np.log(1. - A))\n",
    "    \n",
    "    # Back Propogation , calculating the gradients\n",
    "    dw = (1. / m)* np.dot(X, (A - y).T)   # derivative of weight\n",
    "    db = (1. / m)* np.sum(A - y)          # derivative of bias\n",
    "    \n",
    "    grads= {'dw':dw, 'db':db}\n",
    "    \n",
    "    return grads, cost\n",
    "\n",
    "\n",
    "# Performing Grdient Descent - updating/learing  η\n",
    "def optimize(X, y, w, b, Niterations, eta):\n",
    "    \n",
    "    costs=[]\n",
    "    \n",
    "    for i in range(Niterations):\n",
    "        \n",
    "        grads, cost = fb_propogate(X, y, w, b)\n",
    "        \n",
    "        dw = grads[\"dw\"]\n",
    "        db = grads[\"db\"]\n",
    "        \n",
    "        # update weight and bias by learning_rate=alpha\n",
    "        w = w - eta * dw\n",
    "        b = b - eta * db\n",
    "        \n",
    "        # Store the cost and display it at interval of every 100th iterations\n",
    "        costs.append(cost)\n",
    "        if i% 500 == 0:\n",
    "            print(\"Cost after %i-th iteration : %f\" %(i, cost))\n",
    "        \n",
    "    parameters = {\"w\":w, \"b\":b}\n",
    "    grads = {\"dw\":dw, \"db\":db}\n",
    "    \n",
    "    return parameters, grads, costs\n",
    "\n",
    "\n",
    "# Predictions on the data set (mapping probabilities to 0 or 1)\n",
    "def predict(X, w, b):\n",
    "    \n",
    "    m = X.shape[1] # Number of training data\n",
    "    \n",
    "    y_predict = np.zeros((1, m))\n",
    "    \n",
    "    w = w.reshape(X.shape[0], 1)\n",
    "    \n",
    "    A = sigmoid(np.dot(w.T, X) + b)\n",
    "        \n",
    "    for i in range(A.shape[1]):\n",
    "        \n",
    "        if(A[0, i] < 0.5):\n",
    "            y_predict[0, i] = 0\n",
    "        else:\n",
    "            y_predict[0, i] = 1\n",
    "    \n",
    "    return y_predict\n",
    "\n",
    "\n",
    "# Calculating the Logistic Regression Model (train data)\n",
    "def LR_model(X, y, Niterations, eta):\n",
    "    \n",
    "    m = X.shape[0] # Number of features\n",
    "    \n",
    "    w, b = initialize(m)\n",
    "    \n",
    "    parameters, grads, costs = optimize(X, y, w, b, Niterations, eta)\n",
    "    \n",
    "    w = parameters[\"w\"]\n",
    "    b = parameters[\"b\"]\n",
    "    \n",
    "    d = {\"w\":w, \"b\":b, \"costs\": costs}\n",
    "    \n",
    "    return d\n",
    "\n",
    "\n",
    "# Accuracy of the model\n",
    "def accuracy(ytilde, y):\n",
    "    return (np.mean(y == ytilde) * 100)\n"
   ]
  },
  {
   "cell_type": "code",
   "execution_count": 5,
   "metadata": {
    "collapsed": true
   },
   "outputs": [],
   "source": [
    "#############################################################\n",
    "# Start the main program\n",
    "#############################################################"
   ]
  },
  {
   "cell_type": "code",
   "execution_count": 4,
   "metadata": {
    "scrolled": false
   },
   "outputs": [
    {
     "name": "stdout",
     "output_type": "stream",
     "text": [
      "(455, 30) (114, 30) (455,) (114,)\n",
      "Cost after 0-th iteration : 0.710506\n",
      "Cost after 500-th iteration : 0.523687\n",
      "Cost after 1000-th iteration : 0.460363\n",
      "Cost after 1500-th iteration : 0.421362\n",
      "Cost after 2000-th iteration : 0.393762\n",
      "Cost after 2500-th iteration : 0.372797\n",
      "Cost after 3000-th iteration : 0.356191\n",
      "Cost after 3500-th iteration : 0.342677\n",
      "Cost after 4000-th iteration : 0.331469\n",
      "Cost after 4500-th iteration : 0.322036\n",
      "Cost after 5000-th iteration : 0.313998\n",
      "Cost after 5500-th iteration : 0.307073\n",
      "Cost after 6000-th iteration : 0.301049\n",
      "Cost after 6500-th iteration : 0.295761\n",
      "Cost after 7000-th iteration : 0.291083\n",
      "Cost after 7500-th iteration : 0.286914\n",
      "Cost after 8000-th iteration : 0.283174\n",
      "Cost after 8500-th iteration : 0.279801\n",
      "Cost after 9000-th iteration : 0.276741\n",
      "Cost after 9500-th iteration : 0.273954\n"
     ]
    },
    {
     "data": {
      "image/png": "[encoded data removed]",
      "text/plain": [
       "<Figure size 432x288 with 1 Axes>"
      ]
     },
     "metadata": {
      "needs_background": "light"
     },
     "output_type": "display_data"
    },
    {
     "name": "stdout",
     "output_type": "stream",
     "text": [
      "\n",
      "Train accuracy: 90.98901098901099 \n",
      "Test accuracy:  95.6140350877193 \n"
     ]
    }
   ],
   "source": [
    "# Split data into train and test (80% and 20%)\n",
    "X_train, X_test, y_train, y_test = train_test_split(cancer.data, cancer.target, test_size = 0.2, random_state=42)\n",
    "print(X_train.shape, X_test.shape, y_train.shape, y_test.shape)\n",
    "\n",
    "# Calling the model function to train a Logistic Regression Model on Training Data\n",
    "d = LR_model(X_train.T, y_train.T, Niterations=10000, eta=0.000001)\n",
    "\n",
    "costs = d[\"costs\"]  # cost\n",
    "w     = d[\"w\"]      # weight\n",
    "b     = d[\"b\"]      # bias\n",
    "\n",
    "# Plot the cost vs number_of_iterations graph\n",
    "plt.plot(costs)\n",
    "plt.title(\"Cost vs Iterations\")\n",
    "plt.xlabel(\"Number of Iterations\")\n",
    "plt.ylabel(\"Cost\")\n",
    "plt.show()\n",
    "\n",
    "# Calculate the accuracy on Training and Test Data\n",
    "y_predict_train = predict(X_train.T, w, b)\n",
    "y_predict_test  = predict(X_test.T, w, b)\n",
    "\n",
    "print(\"\\nTrain accuracy: {} \".format( accuracy(y_predict_train, y_train.T) ))\n",
    "print(\"Test accuracy:  {} \".format( accuracy(y_predict_test, y_test.T) ))\n"
   ]
  },
  {
   "cell_type": "code",
   "execution_count": 8,
   "metadata": {
    "scrolled": false
   },
   "outputs": [],
   "source": [
    "#yy=np.concatenate((y_test.reshape(-1,1), y_predict_test.reshape(-1,1)), axis=1)\n",
    "#print(yy)"
   ]
  },
  {
   "cell_type": "code",
   "execution_count": 9,
   "metadata": {
    "collapsed": true
   },
   "outputs": [],
   "source": [
    "############# scikit-learn implementation ###########"
   ]
  },
  {
   "cell_type": "code",
   "execution_count": 5,
   "metadata": {},
   "outputs": [
    {
     "data": {
      "text/plain": [
       "LogisticRegression(C=1.0, class_weight=None, dual=False, fit_intercept=True,\n",
       "                   intercept_scaling=1, l1_ratio=None, max_iter=10000,\n",
       "                   multi_class='warn', n_jobs=None, penalty='l2',\n",
       "                   random_state=42, solver='lbfgs', tol=0.0001, verbose=0,\n",
       "                   warm_start=False)"
      ]
     },
     "execution_count": 5,
     "metadata": {},
     "output_type": "execute_result"
    }
   ],
   "source": [
    "from sklearn.linear_model import LogisticRegression\n",
    "\n",
    "model = LogisticRegression(solver='lbfgs', random_state = 42,max_iter= 10000)\n",
    "model.fit(X_train, y_train)"
   ]
  },
  {
   "cell_type": "code",
   "execution_count": 6,
   "metadata": {
    "scrolled": false
   },
   "outputs": [
    {
     "name": "stdout",
     "output_type": "stream",
     "text": [
      "Train accuracy: 95.6043956043956 \n",
      "Test accuracy:  95.6140350877193 \n"
     ]
    }
   ],
   "source": [
    "print(\"Train accuracy: {} \".format(model.score(X_train, y_train)*100))\n",
    "print(\"Test accuracy:  {} \".format(model.score(X_test, y_test)*100))"
   ]
  },
  {
   "cell_type": "code",
   "execution_count": 19,
   "metadata": {
    "collapsed": true,
    "scrolled": false
   },
   "outputs": [],
   "source": [
    "#"
   ]
  },
  {
   "cell_type": "code",
   "execution_count": 12,
   "metadata": {
    "collapsed": true
   },
   "outputs": [],
   "source": [
    "# Scaled data /features\n",
    "scaler = MinMaxScaler().fit(X_train)\n",
    "\n",
    "X_train_scaled = scaler.transform(X_train)\n",
    "X_test_scaled = scaler.transform(X_test)"
   ]
  },
  {
   "cell_type": "code",
   "execution_count": null,
   "metadata": {
    "collapsed": true
   },
   "outputs": [],
   "source": [
    "#"
   ]
  },
  {
   "cell_type": "code",
   "execution_count": null,
   "metadata": {},
   "outputs": [],
   "source": []
  }
 ],
 "metadata": {
  "kernelspec": {
   "display_name": "Python 3",
   "language": "python",
   "name": "python3"
  },
  "language_info": {
   "codemirror_mode": {
    "name": "ipython",
    "version": 3
   },
   "file_extension": ".py",
   "mimetype": "text/x-python",
   "name": "python",
   "nbconvert_exporter": "python",
   "pygments_lexer": "ipython3",
   "version": "3.7.3"
  }
 },
 "nbformat": 4,
 "nbformat_minor": 2
}
